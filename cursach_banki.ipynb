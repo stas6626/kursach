{
 "cells": [
  {
   "cell_type": "markdown",
   "metadata": {},
   "source": [
    "# Подготовка данных"
   ]
  },
  {
   "cell_type": "code",
   "execution_count": 116,
   "metadata": {
    "collapsed": false,
    "scrolled": false
   },
   "outputs": [],
   "source": [
    "from sklearn import ensemble , cross_validation, metrics, preprocessing,tree,neural_network,linear_model,neighbors,model_selection\n",
    "#самая распространенная библиотека по машин лернингу\n",
    "import numpy as np\n",
    "#линейная алгебра\n",
    "import pandas as pd\n",
    "#работа с датасетами\n",
    "import xgboost as xgb\n",
    "#градиентный бустинг"
   ]
  },
  {
   "cell_type": "code",
   "execution_count": 81,
   "metadata": {
    "collapsed": false
   },
   "outputs": [],
   "source": [
    "bank=pd.read_csv(\"/home/stas/data/bank.csv\",sep=\";\")\n",
    "#имортируем датасет"
   ]
  },
  {
   "cell_type": "code",
   "execution_count": 82,
   "metadata": {
    "collapsed": true
   },
   "outputs": [],
   "source": [
    "bank_vords=bank.iloc[:,[1,2,3,4,6,7,8,10,15,16]]\n",
    "bank_numeric=bank.iloc[:,[0,5,9,11,12,13,14]]\n",
    "#делим на вещественный(численные) и строчные признаки"
   ]
  },
  {
   "cell_type": "code",
   "execution_count": 83,
   "metadata": {
    "collapsed": false,
    "scrolled": false
   },
   "outputs": [
    {
     "name": "stderr",
     "output_type": "stream",
     "text": [
      "/home/stas/anaconda3/lib/python3.6/site-packages/sklearn/preprocessing/label.py:129: DataConversionWarning: A column-vector y was passed when a 1d array was expected. Please change the shape of y to (n_samples, ), for example using ravel().\n",
      "  y = column_or_1d(y, warn=True)\n"
     ]
    }
   ],
   "source": [
    "le = preprocessing.LabelEncoder()\n",
    "\n",
    "X=[]\n",
    "\n",
    "for i in range(0,10):\n",
    "    X.append(le.fit_transform(bank_vords.iloc[:,[i]]))\n",
    "    #преобразовываем строковые к численным и к нампаевскому массиву\n",
    "\n",
    "X1=np.ones((7,4521))\n",
    "for i in range(0,7):\n",
    "    X1[i]=np.array(bank_numeric.iloc[:,[i]]).T\n",
    "    #тут просто к нампаевскому"
   ]
  },
  {
   "cell_type": "code",
   "execution_count": 84,
   "metadata": {
    "collapsed": false
   },
   "outputs": [],
   "source": [
    "y=np.array(X[9])\n",
    "X_num=np.array(X[:9])\n",
    "X_col=X1\n",
    "new_X=np.hstack((X_num.T,X_col.T))\n",
    "#склеиваем признаки на которых будем обучаться, и выделяем переменную с ответами"
   ]
  },
  {
   "cell_type": "markdown",
   "metadata": {},
   "source": [
    "# Начинам обучение\n",
    "проверять качество будем кросс-валидацией с разбитием на 10 фолдов, дабы уменьшить дисперсию"
   ]
  },
  {
   "cell_type": "code",
   "execution_count": 108,
   "metadata": {
    "collapsed": false
   },
   "outputs": [
    {
     "data": {
      "text/plain": [
       "0.89692756256226913"
      ]
     },
     "execution_count": 108,
     "metadata": {},
     "output_type": "execute_result"
    }
   ],
   "source": [
    "estimator = xgb.XGBClassifier(learning_rate=0.01, max_depth=1000, n_estimators=1000, min_child_weight=3)\n",
    "cross_validation.cross_val_score(estimator, new_X, y,scoring = 'accuracy', cv = 10).mean()\n",
    "#Самый универсальный градиентный бустинг, с него и начнем"
   ]
  },
  {
   "cell_type": "code",
   "execution_count": 109,
   "metadata": {
    "collapsed": false
   },
   "outputs": [
    {
     "data": {
      "text/plain": [
       "0.89869405536345681"
      ]
     },
     "execution_count": 109,
     "metadata": {},
     "output_type": "execute_result"
    }
   ],
   "source": [
    "tree_clf=ensemble.RandomForestClassifier(n_estimators=500,max_depth=4000)\n",
    "cross_validation.cross_val_score(tree_clf, new_X, y,scoring = 'accuracy', cv = 10).mean()\n",
    "#Далее мой любимый случайный лес, в 500 деревьев и очень глубокими ветвями"
   ]
  },
  {
   "cell_type": "code",
   "execution_count": 111,
   "metadata": {
    "collapsed": false,
    "scrolled": false
   },
   "outputs": [
    {
     "name": "stdout",
     "output_type": "stream",
     "text": [
      "CPU times: user 30min 52s, sys: 1min 37s, total: 32min 30s\n",
      "Wall time: 16min 15s\n"
     ]
    }
   ],
   "source": [
    "%%time\n",
    "q=[]\n",
    "neur_count=[50,10,200,300,500,750,1000,1250,1500]\n",
    "for i in neur_count:\n",
    "    neur=neural_network.MLPClassifier(solver='lbfgs', alpha=1e-5,hidden_layer_sizes=(16,i,2))\n",
    "    q.append([cross_validation.cross_val_score(neur, new_X, y,scoring = 'accuracy', cv = 10).mean(),i])\n",
    "    #далее построим многослоиную классифицирующую) перцептронную нейронную сеть первый слой 16,\n",
    "    #равный колл-ву признаков,2 слой- эксперементально выведем оптимальное колл-во, 3 слой-2 как и ответов\n",
    "    #lbfgs использовал так-как мне понравилось название это квази Ньютоновский метод\n",
    "    #пеналь-лассо, альфа 0.00001"
   ]
  },
  {
   "cell_type": "code",
   "execution_count": 112,
   "metadata": {
    "collapsed": false,
    "scrolled": true
   },
   "outputs": [
    {
     "data": {
      "text/plain": [
       "[[0.88476039774170245, 50],\n",
       " [0.88542411455586179, 10],\n",
       " [0.88476039774170245, 200],\n",
       " [0.84679716345308564, 300],\n",
       " [0.88476039774170245, 500],\n",
       " [0.88365420305143694, 750],\n",
       " [0.88321465549239109, 1000],\n",
       " [0.88166305260895916, 1250],\n",
       " [0.88453915880364931, 1500]]"
      ]
     },
     "execution_count": 112,
     "metadata": {},
     "output_type": "execute_result"
    }
   ],
   "source": [
    "q\n",
    "#вроде в среднем точность 88.4%"
   ]
  },
  {
   "cell_type": "code",
   "execution_count": 107,
   "metadata": {
    "collapsed": false
   },
   "outputs": [
    {
     "data": {
      "text/plain": [
       "0.88852292484713513"
      ]
     },
     "execution_count": 107,
     "metadata": {},
     "output_type": "execute_result"
    }
   ],
   "source": [
    "log_clf=linear_model.LogisticRegression()\n",
    "cross_validation.cross_val_score(log_clf, new_X, y,scoring = 'accuracy', cv = 10).mean()\n",
    "#А теперь старая-добрая логистическая регрессия"
   ]
  },
  {
   "cell_type": "code",
   "execution_count": 113,
   "metadata": {
    "collapsed": true
   },
   "outputs": [],
   "source": [
    "poly=preprocessing.PolynomialFeatures(2)\n",
    "poly_X=poly.fit_transform(new_X)\n",
    "#Так как точность мне не очень нравится, попробуем увеличить число признаков полиномом,\n",
    "#и на нем обучить два самых успешных алгоритма\n",
    "# так как комп у меня не самый сильный, на этот раз будем бить на 5 фолдов"
   ]
  },
  {
   "cell_type": "markdown",
   "metadata": {},
   "source": [
    "Лучше всего себя показал лес и град.бустинг так что попробуем улучшить качество полиномами"
   ]
  },
  {
   "cell_type": "code",
   "execution_count": 114,
   "metadata": {
    "collapsed": false
   },
   "outputs": [
    {
     "data": {
      "text/plain": [
       "0.89537769520363764"
      ]
     },
     "execution_count": 114,
     "metadata": {},
     "output_type": "execute_result"
    }
   ],
   "source": [
    "cross_validation.cross_val_score(estimator,poly_X, y,scoring = 'accuracy', cv = 5).mean()"
   ]
  },
  {
   "cell_type": "code",
   "execution_count": 115,
   "metadata": {
    "collapsed": false
   },
   "outputs": [
    {
     "data": {
      "text/plain": [
       "0.89559844521586085"
      ]
     },
     "execution_count": 115,
     "metadata": {},
     "output_type": "execute_result"
    }
   ],
   "source": [
    "cross_validation.cross_val_score(tree_clf, poly_X, y,scoring = 'accuracy', cv = 5).mean()"
   ]
  },
  {
   "cell_type": "markdown",
   "metadata": {
    "collapsed": true
   },
   "source": [
    "И победил лес, почти взяв 90"
   ]
  },
  {
   "cell_type": "code",
   "execution_count": 118,
   "metadata": {
    "collapsed": false
   },
   "outputs": [
    {
     "data": {
      "text/plain": [
       "RandomForestClassifier(bootstrap=True, class_weight=None, criterion='gini',\n",
       "            max_depth=4000, max_features='auto', max_leaf_nodes=None,\n",
       "            min_impurity_split=1e-07, min_samples_leaf=1,\n",
       "            min_samples_split=2, min_weight_fraction_leaf=0.0,\n",
       "            n_estimators=500, n_jobs=1, oob_score=False, random_state=None,\n",
       "            verbose=0, warm_start=False)"
      ]
     },
     "execution_count": 118,
     "metadata": {},
     "output_type": "execute_result"
    }
   ],
   "source": [
    "tree_clf.fit(poly_X,y)\n",
    "#а вот и наша принимающая решения система, с точностью около 90%"
   ]
  }
 ],
 "metadata": {
  "kernelspec": {
   "display_name": "Python 3",
   "language": "python",
   "name": "python3"
  },
  "language_info": {
   "codemirror_mode": {
    "name": "ipython",
    "version": 3
   },
   "file_extension": ".py",
   "mimetype": "text/x-python",
   "name": "python",
   "nbconvert_exporter": "python",
   "pygments_lexer": "ipython3",
   "version": "3.6.0"
  }
 },
 "nbformat": 4,
 "nbformat_minor": 2
}
